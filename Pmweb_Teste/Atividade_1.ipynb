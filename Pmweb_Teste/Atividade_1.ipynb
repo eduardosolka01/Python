{
 "cells": [
  {
   "cell_type": "markdown",
   "metadata": {},
   "source": [
    "Importação de Bibliotecas"
   ]
  },
  {
   "cell_type": "code",
   "execution_count": 74,
   "metadata": {},
   "outputs": [],
   "source": [
    "import pandas as pd\n",
    "import re\n",
    "import numpy\n",
    "import magic\n",
    "# Para instalar o magic no Windows utilize pip install python-magic-bin \n"
   ]
  },
  {
   "cell_type": "markdown",
   "metadata": {},
   "source": [
    "Abertura de Arquivo + Reconhecimento de tipo de Encode"
   ]
  },
  {
   "cell_type": "code",
   "execution_count": 75,
   "metadata": {},
   "outputs": [
    {
     "name": "stdout",
     "output_type": "stream",
     "text": [
      "UTF-8 Unicode (with BOM) text, with CRLF line terminators\n",
      "CUSTOMER_ID    object\n",
      "CITY           object\n",
      "PHONE          object\n",
      "dtype: object\n"
     ]
    }
   ],
   "source": [
    "caminho = r'C:\\Users\\Eduardo\\Documents\\Python Scripts\\Pmweb_Teste\\natal2021.csv'\n",
    "\n",
    "# -- faz a leitura do tipo de arquivo e seu encode\n",
    "print(magic.from_file(caminho))\n",
    "\n",
    "# -- carrega arquivo origem\n",
    "tabela = pd.read_csv(caminho,encoding = 'UTF-8')\n",
    "\n",
    "print(tabela.dtypes)\n",
    "\n",
    "\n"
   ]
  },
  {
   "cell_type": "markdown",
   "metadata": {},
   "source": [
    "Tentativa de Rodagem 1000 a 1000"
   ]
  },
  {
   "cell_type": "code",
   "execution_count": 76,
   "metadata": {},
   "outputs": [],
   "source": [
    "#max = len(tabela) / 1000\n",
    "#max = int(max)+1\n",
    "\n",
    "#for i in range(max):\n",
    "#    print(i)\n",
    "#    tabela = pd.read_csv(caminho,encoding = 'UTF-8')\n",
    "#    tabela = tabela.loc()\n",
    "#    display(tabela)"
   ]
  },
  {
   "cell_type": "markdown",
   "metadata": {},
   "source": [
    "Tratamentos de dados"
   ]
  },
  {
   "cell_type": "code",
   "execution_count": 77,
   "metadata": {},
   "outputs": [
    {
     "name": "stdout",
     "output_type": "stream",
     "text": [
      "<class 'pandas.core.frame.DataFrame'>\n",
      "RangeIndex: 100000 entries, 0 to 99999\n",
      "Data columns (total 3 columns):\n",
      " #   Column       Non-Null Count   Dtype \n",
      "---  ------       --------------   ----- \n",
      " 0   CUSTOMER_ID  100000 non-null  object\n",
      " 1   CITY         100000 non-null  object\n",
      " 2   PHONE        100000 non-null  object\n",
      "dtypes: object(3)\n",
      "memory usage: 2.3+ MB\n"
     ]
    },
    {
     "data": {
      "text/html": [
       "<div>\n",
       "<style scoped>\n",
       "    .dataframe tbody tr th:only-of-type {\n",
       "        vertical-align: middle;\n",
       "    }\n",
       "\n",
       "    .dataframe tbody tr th {\n",
       "        vertical-align: top;\n",
       "    }\n",
       "\n",
       "    .dataframe thead th {\n",
       "        text-align: right;\n",
       "    }\n",
       "</style>\n",
       "<table border=\"1\" class=\"dataframe\">\n",
       "  <thead>\n",
       "    <tr style=\"text-align: right;\">\n",
       "      <th></th>\n",
       "      <th>CUSTOMER_ID</th>\n",
       "      <th>CITY</th>\n",
       "      <th>PHONE</th>\n",
       "    </tr>\n",
       "  </thead>\n",
       "  <tbody>\n",
       "    <tr>\n",
       "      <th>0</th>\n",
       "      <td>aaf2e957-7842-4cca-854d-a29f1aad6dfd</td>\n",
       "      <td>São Paulo</td>\n",
       "      <td>051986338462</td>\n",
       "    </tr>\n",
       "    <tr>\n",
       "      <th>1</th>\n",
       "      <td>26cb530b-a07f-41a7-b584-3fed3ab72385</td>\n",
       "      <td>São Paulo</td>\n",
       "      <td>051969771473</td>\n",
       "    </tr>\n",
       "    <tr>\n",
       "      <th>2</th>\n",
       "      <td>c68ae612-d074-4af1-9f11-da5588d218e1</td>\n",
       "      <td>Florianópolis</td>\n",
       "      <td>051900166886</td>\n",
       "    </tr>\n",
       "    <tr>\n",
       "      <th>3</th>\n",
       "      <td>b90f9e45-4faa-414d-b1a1-413783c04246</td>\n",
       "      <td>Porto Alegre</td>\n",
       "      <td>051-927096260</td>\n",
       "    </tr>\n",
       "    <tr>\n",
       "      <th>4</th>\n",
       "      <td>5dfe83e1-61c7-442e-8a9f-f30a5c649bae</td>\n",
       "      <td>São Paulo</td>\n",
       "      <td>051-924852515</td>\n",
       "    </tr>\n",
       "  </tbody>\n",
       "</table>\n",
       "</div>"
      ],
      "text/plain": [
       "                              CUSTOMER_ID             CITY          PHONE\n",
       "0    aaf2e957-7842-4cca-854d-a29f1aad6dfd      São Paulo     051986338462\n",
       "1  26cb530b-a07f-41a7-b584-3fed3ab72385        São Paulo     051969771473\n",
       "2    c68ae612-d074-4af1-9f11-da5588d218e1  Florianópolis     051900166886\n",
       "3    b90f9e45-4faa-414d-b1a1-413783c04246   Porto Alegre    051-927096260\n",
       "4   5dfe83e1-61c7-442e-8a9f-f30a5c649bae       São Paulo    051-924852515"
      ]
     },
     "metadata": {},
     "output_type": "display_data"
    },
    {
     "name": "stdout",
     "output_type": "stream",
     "text": [
      "['SAO PAULO' 'FLORIANOPOLIS' 'PORTO ALEGRE']\n"
     ]
    }
   ],
   "source": [
    "tabela.info()\n",
    "display(tabela.head())\n",
    "tabela['CUSTOMER_ID'] = tabela['CUSTOMER_ID'].str.strip()\n",
    "tabela['CITY'] = tabela['CITY'].str.strip()\n",
    "tabela['PHONE'] = tabela['PHONE'].str.strip()\n",
    "tabela['PHONE'] = tabela['PHONE'].str.replace(r'[^0-9]','', regex=True)\n",
    "\n",
    "tabela['CITY_ASCII'] = tabela['CITY'].str.upper()\n",
    "tabela['CITY_ASCII'] = tabela['CITY_ASCII'].str.replace('Ã','A')\n",
    "tabela['CITY_ASCII'] = tabela['CITY_ASCII'].str.replace('Á','A')\n",
    "tabela['CITY_ASCII'] = tabela['CITY_ASCII'].str.replace('Â','A')\n",
    "tabela['CITY_ASCII'] = tabela['CITY_ASCII'].str.replace('À','A')\n",
    "tabela['CITY_ASCII'] = tabela['CITY_ASCII'].str.replace('Ç','C')\n",
    "tabela['CITY_ASCII'] = tabela['CITY_ASCII'].str.replace('É','E')\n",
    "tabela['CITY_ASCII'] = tabela['CITY_ASCII'].str.replace('Ê','E')\n",
    "tabela['CITY_ASCII'] = tabela['CITY_ASCII'].str.replace('È','E')\n",
    "tabela['CITY_ASCII'] = tabela['CITY_ASCII'].str.replace('Í','I')\n",
    "tabela['CITY_ASCII'] = tabela['CITY_ASCII'].str.replace('Î','I')\n",
    "tabela['CITY_ASCII'] = tabela['CITY_ASCII'].str.replace('Ì','I')\n",
    "tabela['CITY_ASCII'] = tabela['CITY_ASCII'].str.replace('Õ','O')\n",
    "tabela['CITY_ASCII'] = tabela['CITY_ASCII'].str.replace('Ó','O')\n",
    "tabela['CITY_ASCII'] = tabela['CITY_ASCII'].str.replace('Ô','O')\n",
    "tabela['CITY_ASCII'] = tabela['CITY_ASCII'].str.replace('Ò','O')\n",
    "tabela['CITY_ASCII'] = tabela['CITY_ASCII'].str.replace('Ú','U')\n",
    "tabela['CITY_ASCII'] = tabela['CITY_ASCII'].str.replace('Û','U')\n",
    "tabela['CITY_ASCII'] = tabela['CITY_ASCII'].str.replace('Ù','U')\n",
    "tabela['CITY_ASCII'] = tabela['CITY_ASCII'].str.replace('[^A-Z -a-z0-9]','',regex=True)\n",
    "\n",
    "print(tabela['CITY_ASCII'].unique())\n"
   ]
  },
  {
   "cell_type": "markdown",
   "metadata": {},
   "source": [
    "Salvar Novo Arquivo"
   ]
  },
  {
   "cell_type": "code",
   "execution_count": 78,
   "metadata": {},
   "outputs": [],
   "source": [
    "#display(tabela['CITY'].str.decode('utf-8'))\n",
    "\n",
    "tabela.to_csv(r'C:\\Users\\Eduardo\\Documents\\Python Scripts\\Pmweb_Teste\\saida_tratamento2.csv',encoding='utf-8',index=False)\n",
    "tabela.to_csv(r'C:\\Users\\Eduardo\\Documents\\Python Scripts\\Pmweb_Teste\\saida_tratamento.txt',encoding='utf-8',index=False)\n",
    "tabela.to_csv(r'C:\\Users\\Eduardo\\Documents\\Python Scripts\\Pmweb_Teste\\saida_tratamento.csv',encoding='latin-1',index=False)\n",
    "\n",
    "\n",
    "#abrir o csv saida_tratamento_2.csv com codificação utf-8 no excel"
   ]
  },
  {
   "cell_type": "markdown",
   "metadata": {},
   "source": []
  }
 ],
 "metadata": {
  "interpreter": {
   "hash": "84649f447348e980c8ae7210a66ce6e377fbc686bfe874565388790ce8aa225a"
  },
  "kernelspec": {
   "display_name": "Python 3.9.10 64-bit (windows store)",
   "language": "python",
   "name": "python3"
  },
  "language_info": {
   "codemirror_mode": {
    "name": "ipython",
    "version": 3
   },
   "file_extension": ".py",
   "mimetype": "text/x-python",
   "name": "python",
   "nbconvert_exporter": "python",
   "pygments_lexer": "ipython3",
   "version": "3.9.10"
  },
  "orig_nbformat": 4
 },
 "nbformat": 4,
 "nbformat_minor": 2
}
